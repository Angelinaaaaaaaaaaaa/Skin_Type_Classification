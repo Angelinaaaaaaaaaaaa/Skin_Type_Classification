{
 "cells": [
  {
   "cell_type": "markdown",
   "metadata": {},
   "source": [
    "## Import Data"
   ]
  },
  {
   "cell_type": "code",
   "execution_count": 2,
   "metadata": {},
   "outputs": [],
   "source": [
    "import numpy as np\n",
    "import matplotlib.pyplot as plt\n",
    "import pandas as pd\n",
    "import os\n",
    "from PIL import Image"
   ]
  },
  {
   "cell_type": "code",
   "execution_count": 3,
   "metadata": {},
   "outputs": [],
   "source": [
    "label_index = {\"dry\": 0, \"normal\": 1, \"oily\": 2}\n",
    "\n",
    "def create_df(base):\n",
    "    dd = {\"images\": [], \"labels\": []}\n",
    "    for label_name in os.listdir(base):\n",
    "        label_path = os.path.join(base, label_name)\n",
    "        if os.path.isdir(label_path):  \n",
    "            for img_name in os.listdir(label_path):\n",
    "                img_path = os.path.join(label_path, img_name)\n",
    "                dd[\"images\"].append(img_path)\n",
    "                dd[\"labels\"].append(label_index[label_name])\n",
    "    return pd.DataFrame(dd)"
   ]
  },
  {
   "cell_type": "code",
   "execution_count": 25,
   "metadata": {},
   "outputs": [],
   "source": [
    "base_path = \"Oily-Dry-Skin_Faces_only/valid\"\n",
    "train_df = create_df(base_path)"
   ]
  },
  {
   "cell_type": "code",
   "execution_count": 21,
   "metadata": {},
   "outputs": [
    {
     "data": {
      "text/html": [
       "<div>\n",
       "<style scoped>\n",
       "    .dataframe tbody tr th:only-of-type {\n",
       "        vertical-align: middle;\n",
       "    }\n",
       "\n",
       "    .dataframe tbody tr th {\n",
       "        vertical-align: top;\n",
       "    }\n",
       "\n",
       "    .dataframe thead th {\n",
       "        text-align: right;\n",
       "    }\n",
       "</style>\n",
       "<table border=\"1\" class=\"dataframe\">\n",
       "  <thead>\n",
       "    <tr style=\"text-align: right;\">\n",
       "      <th></th>\n",
       "      <th>images</th>\n",
       "      <th>labels</th>\n",
       "    </tr>\n",
       "  </thead>\n",
       "  <tbody>\n",
       "    <tr>\n",
       "      <th>0</th>\n",
       "      <td>Oily-Dry-Skin_Faces_only/test/dry/dry_7d1580f0...</td>\n",
       "      <td>0</td>\n",
       "    </tr>\n",
       "    <tr>\n",
       "      <th>1</th>\n",
       "      <td>Oily-Dry-Skin_Faces_only/test/dry/dry_c9173f4c...</td>\n",
       "      <td>0</td>\n",
       "    </tr>\n",
       "    <tr>\n",
       "      <th>2</th>\n",
       "      <td>Oily-Dry-Skin_Faces_only/test/dry/dry_2e2591d4...</td>\n",
       "      <td>0</td>\n",
       "    </tr>\n",
       "    <tr>\n",
       "      <th>3</th>\n",
       "      <td>Oily-Dry-Skin_Faces_only/test/dry/dry_fb0e802b...</td>\n",
       "      <td>0</td>\n",
       "    </tr>\n",
       "    <tr>\n",
       "      <th>4</th>\n",
       "      <td>Oily-Dry-Skin_Faces_only/test/dry/dry_b50f5cd3...</td>\n",
       "      <td>0</td>\n",
       "    </tr>\n",
       "  </tbody>\n",
       "</table>\n",
       "</div>"
      ],
      "text/plain": [
       "                                              images  labels\n",
       "0  Oily-Dry-Skin_Faces_only/test/dry/dry_7d1580f0...       0\n",
       "1  Oily-Dry-Skin_Faces_only/test/dry/dry_c9173f4c...       0\n",
       "2  Oily-Dry-Skin_Faces_only/test/dry/dry_2e2591d4...       0\n",
       "3  Oily-Dry-Skin_Faces_only/test/dry/dry_fb0e802b...       0\n",
       "4  Oily-Dry-Skin_Faces_only/test/dry/dry_b50f5cd3...       0"
      ]
     },
     "execution_count": 21,
     "metadata": {},
     "output_type": "execute_result"
    }
   ],
   "source": [
    "train_df.head()"
   ]
  },
  {
   "cell_type": "code",
   "execution_count": 8,
   "metadata": {},
   "outputs": [],
   "source": [
    "def load_image_rgb(image_path):\n",
    "    with Image.open(image_path) as img:\n",
    "        return img.convert(\"RGB\")"
   ]
  },
  {
   "cell_type": "code",
   "execution_count": 14,
   "metadata": {},
   "outputs": [],
   "source": [
    "def normalize(df):\n",
    "    images = []\n",
    "    \n",
    "    for index, row in df.iterrows():\n",
    "        img = Image.open(row['images']).convert('RGB')\n",
    "        img_array = np.array(img, dtype=np.float32) / 255.0\n",
    "        images.append(img_array)\n",
    "\n",
    "    return images\n",
    "\n",
    "normalized_images = normalize(train_df)"
   ]
  },
  {
   "cell_type": "code",
   "execution_count": 12,
   "metadata": {},
   "outputs": [
    {
     "data": {
      "text/plain": [
       "(2756, 2)"
      ]
     },
     "execution_count": 12,
     "metadata": {},
     "output_type": "execute_result"
    }
   ],
   "source": [
    "train_df.shape"
   ]
  },
  {
   "cell_type": "code",
   "execution_count": 26,
   "metadata": {},
   "outputs": [],
   "source": [
    "normalized_data = [{'image': img, 'label': label} for img, label in zip(normalized_images, train_df['labels'])]\n",
    "normalized_df = pd.DataFrame(normalized_data)\n",
    "normalized_df.to_csv('data/normalized_valid.csv', index=False)"
   ]
  },
  {
   "cell_type": "code",
   "execution_count": 27,
   "metadata": {},
   "outputs": [
    {
     "data": {
      "text/plain": [
       "(262, 2)"
      ]
     },
     "execution_count": 27,
     "metadata": {},
     "output_type": "execute_result"
    }
   ],
   "source": [
    "normalized_df.shape"
   ]
  },
  {
   "cell_type": "code",
   "execution_count": 28,
   "metadata": {},
   "outputs": [
    {
     "data": {
      "text/plain": [
       "(650, 650, 3)"
      ]
     },
     "execution_count": 28,
     "metadata": {},
     "output_type": "execute_result"
    }
   ],
   "source": [
    "normalized_df['image'][0].shape"
   ]
  },
  {
   "cell_type": "code",
   "execution_count": null,
   "metadata": {},
   "outputs": [],
   "source": []
  }
 ],
 "metadata": {
  "kernelspec": {
   "display_name": "cse151",
   "language": "python",
   "name": "python3"
  },
  "language_info": {
   "codemirror_mode": {
    "name": "ipython",
    "version": 3
   },
   "file_extension": ".py",
   "mimetype": "text/x-python",
   "name": "python",
   "nbconvert_exporter": "python",
   "pygments_lexer": "ipython3",
   "version": "3.11.4"
  }
 },
 "nbformat": 4,
 "nbformat_minor": 2
}
