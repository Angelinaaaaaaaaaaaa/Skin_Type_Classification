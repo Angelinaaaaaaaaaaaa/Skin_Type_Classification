{
 "cells": [
  {
   "cell_type": "markdown",
   "metadata": {},
   "source": [
    "## Import Data"
   ]
  },
  {
   "cell_type": "code",
   "execution_count": 2,
   "metadata": {},
   "outputs": [],
   "source": [
    "import numpy as np\n",
    "import matplotlib.pyplot as plt\n",
    "import pandas as pd\n",
    "import os\n",
    "from PIL import Image"
   ]
  },
  {
   "cell_type": "code",
   "execution_count": 3,
   "metadata": {},
   "outputs": [],
   "source": [
    "label_index = {\"dry\": 0, \"normal\": 1, \"oily\": 2}\n",
    "\n",
    "def create_df(base):\n",
    "    dd = {\"images\": [], \"labels\": []}\n",
    "    for label_name in os.listdir(base):\n",
    "        label_path = os.path.join(base, label_name)\n",
    "        if os.path.isdir(label_path):  \n",
    "            for img_name in os.listdir(label_path):\n",
    "                img_path = os.path.join(label_path, img_name)\n",
    "                dd[\"images\"].append(img_path)\n",
    "                dd[\"labels\"].append(label_index[label_name])\n",
    "    return pd.DataFrame(dd)"
   ]
  },
  {
   "cell_type": "code",
   "execution_count": 4,
   "metadata": {},
   "outputs": [],
   "source": [
    "target_label = 'valid'\n",
    "base_path = f\"Oily-Dry-Skin_Faces_only/{target_label}\"\n",
    "raw_df = create_df(base_path)"
   ]
  },
  {
   "cell_type": "code",
   "execution_count": 5,
   "metadata": {},
   "outputs": [
    {
     "data": {
      "text/html": [
       "<div>\n",
       "<style scoped>\n",
       "    .dataframe tbody tr th:only-of-type {\n",
       "        vertical-align: middle;\n",
       "    }\n",
       "\n",
       "    .dataframe tbody tr th {\n",
       "        vertical-align: top;\n",
       "    }\n",
       "\n",
       "    .dataframe thead th {\n",
       "        text-align: right;\n",
       "    }\n",
       "</style>\n",
       "<table border=\"1\" class=\"dataframe\">\n",
       "  <thead>\n",
       "    <tr style=\"text-align: right;\">\n",
       "      <th></th>\n",
       "      <th>images</th>\n",
       "      <th>labels</th>\n",
       "    </tr>\n",
       "  </thead>\n",
       "  <tbody>\n",
       "    <tr>\n",
       "      <th>0</th>\n",
       "      <td>Oily-Dry-Skin_Faces_only/valid/dry/dry_de06cd0...</td>\n",
       "      <td>0</td>\n",
       "    </tr>\n",
       "    <tr>\n",
       "      <th>1</th>\n",
       "      <td>Oily-Dry-Skin_Faces_only/valid/dry/dry_ca28b3a...</td>\n",
       "      <td>0</td>\n",
       "    </tr>\n",
       "    <tr>\n",
       "      <th>2</th>\n",
       "      <td>Oily-Dry-Skin_Faces_only/valid/dry/dry_4381964...</td>\n",
       "      <td>0</td>\n",
       "    </tr>\n",
       "    <tr>\n",
       "      <th>3</th>\n",
       "      <td>Oily-Dry-Skin_Faces_only/valid/dry/dry_c4af664...</td>\n",
       "      <td>0</td>\n",
       "    </tr>\n",
       "    <tr>\n",
       "      <th>4</th>\n",
       "      <td>Oily-Dry-Skin_Faces_only/valid/dry/dry_30a7296...</td>\n",
       "      <td>0</td>\n",
       "    </tr>\n",
       "  </tbody>\n",
       "</table>\n",
       "</div>"
      ],
      "text/plain": [
       "                                              images  labels\n",
       "0  Oily-Dry-Skin_Faces_only/valid/dry/dry_de06cd0...       0\n",
       "1  Oily-Dry-Skin_Faces_only/valid/dry/dry_ca28b3a...       0\n",
       "2  Oily-Dry-Skin_Faces_only/valid/dry/dry_4381964...       0\n",
       "3  Oily-Dry-Skin_Faces_only/valid/dry/dry_c4af664...       0\n",
       "4  Oily-Dry-Skin_Faces_only/valid/dry/dry_30a7296...       0"
      ]
     },
     "execution_count": 5,
     "metadata": {},
     "output_type": "execute_result"
    }
   ],
   "source": [
    "raw_df.head()"
   ]
  },
  {
   "cell_type": "code",
   "execution_count": 6,
   "metadata": {},
   "outputs": [],
   "source": [
    "def normalize(df):\n",
    "    out_df = pd.DataFrame(columns=['R', 'G', 'B', 'labels'], index=df.index)\n",
    "    for index, row in df.iterrows():\n",
    "        img = Image.open(row['images']).convert('RGB')\n",
    "        R = np.array(img.getdata(0), dtype=np.float32) / 255.0\n",
    "        G = np.array(img.getdata(1), dtype=np.float32) / 255.0\n",
    "        B = np.array(img.getdata(2), dtype=np.float32) / 255.0\n",
    "        out_df.loc[index] = [R, G, B, row['labels']]\n",
    "    return out_df\n",
    "\n",
    "normalized_images = normalize(raw_df)"
   ]
  },
  {
   "cell_type": "code",
   "execution_count": 7,
   "metadata": {},
   "outputs": [
    {
     "data": {
      "text/html": [
       "<div>\n",
       "<style scoped>\n",
       "    .dataframe tbody tr th:only-of-type {\n",
       "        vertical-align: middle;\n",
       "    }\n",
       "\n",
       "    .dataframe tbody tr th {\n",
       "        vertical-align: top;\n",
       "    }\n",
       "\n",
       "    .dataframe thead th {\n",
       "        text-align: right;\n",
       "    }\n",
       "</style>\n",
       "<table border=\"1\" class=\"dataframe\">\n",
       "  <thead>\n",
       "    <tr style=\"text-align: right;\">\n",
       "      <th></th>\n",
       "      <th>R</th>\n",
       "      <th>G</th>\n",
       "      <th>B</th>\n",
       "      <th>labels</th>\n",
       "    </tr>\n",
       "  </thead>\n",
       "  <tbody>\n",
       "    <tr>\n",
       "      <th>0</th>\n",
       "      <td>[0.5019608, 0.5019608, 0.5019608, 0.5019608, 0...</td>\n",
       "      <td>[0.5019608, 0.5019608, 0.5019608, 0.5019608, 0...</td>\n",
       "      <td>[0.5019608, 0.5019608, 0.5019608, 0.5019608, 0...</td>\n",
       "      <td>0</td>\n",
       "    </tr>\n",
       "    <tr>\n",
       "      <th>1</th>\n",
       "      <td>[0.5019608, 0.5019608, 0.5019608, 0.5019608, 0...</td>\n",
       "      <td>[0.5019608, 0.5019608, 0.5019608, 0.5019608, 0...</td>\n",
       "      <td>[0.5019608, 0.5019608, 0.5019608, 0.5019608, 0...</td>\n",
       "      <td>0</td>\n",
       "    </tr>\n",
       "    <tr>\n",
       "      <th>2</th>\n",
       "      <td>[0.5019608, 0.5019608, 0.5019608, 0.5019608, 0...</td>\n",
       "      <td>[0.5019608, 0.5019608, 0.5019608, 0.5019608, 0...</td>\n",
       "      <td>[0.5019608, 0.5019608, 0.5019608, 0.5019608, 0...</td>\n",
       "      <td>0</td>\n",
       "    </tr>\n",
       "    <tr>\n",
       "      <th>3</th>\n",
       "      <td>[0.5019608, 0.5019608, 0.5019608, 0.5019608, 0...</td>\n",
       "      <td>[0.5019608, 0.5019608, 0.5019608, 0.5019608, 0...</td>\n",
       "      <td>[0.5019608, 0.5019608, 0.5019608, 0.5019608, 0...</td>\n",
       "      <td>0</td>\n",
       "    </tr>\n",
       "    <tr>\n",
       "      <th>4</th>\n",
       "      <td>[0.5019608, 0.5019608, 0.5019608, 0.5019608, 0...</td>\n",
       "      <td>[0.5019608, 0.5019608, 0.5019608, 0.5019608, 0...</td>\n",
       "      <td>[0.5019608, 0.5019608, 0.5019608, 0.5019608, 0...</td>\n",
       "      <td>0</td>\n",
       "    </tr>\n",
       "  </tbody>\n",
       "</table>\n",
       "</div>"
      ],
      "text/plain": [
       "                                                   R  \\\n",
       "0  [0.5019608, 0.5019608, 0.5019608, 0.5019608, 0...   \n",
       "1  [0.5019608, 0.5019608, 0.5019608, 0.5019608, 0...   \n",
       "2  [0.5019608, 0.5019608, 0.5019608, 0.5019608, 0...   \n",
       "3  [0.5019608, 0.5019608, 0.5019608, 0.5019608, 0...   \n",
       "4  [0.5019608, 0.5019608, 0.5019608, 0.5019608, 0...   \n",
       "\n",
       "                                                   G  \\\n",
       "0  [0.5019608, 0.5019608, 0.5019608, 0.5019608, 0...   \n",
       "1  [0.5019608, 0.5019608, 0.5019608, 0.5019608, 0...   \n",
       "2  [0.5019608, 0.5019608, 0.5019608, 0.5019608, 0...   \n",
       "3  [0.5019608, 0.5019608, 0.5019608, 0.5019608, 0...   \n",
       "4  [0.5019608, 0.5019608, 0.5019608, 0.5019608, 0...   \n",
       "\n",
       "                                                   B labels  \n",
       "0  [0.5019608, 0.5019608, 0.5019608, 0.5019608, 0...      0  \n",
       "1  [0.5019608, 0.5019608, 0.5019608, 0.5019608, 0...      0  \n",
       "2  [0.5019608, 0.5019608, 0.5019608, 0.5019608, 0...      0  \n",
       "3  [0.5019608, 0.5019608, 0.5019608, 0.5019608, 0...      0  \n",
       "4  [0.5019608, 0.5019608, 0.5019608, 0.5019608, 0...      0  "
      ]
     },
     "execution_count": 7,
     "metadata": {},
     "output_type": "execute_result"
    }
   ],
   "source": [
    "normalized_images.head()"
   ]
  },
  {
   "cell_type": "code",
   "execution_count": null,
   "metadata": {},
   "outputs": [],
   "source": []
  }
 ],
 "metadata": {
  "kernelspec": {
   "display_name": "cse151",
   "language": "python",
   "name": "python3"
  },
  "language_info": {
   "codemirror_mode": {
    "name": "ipython",
    "version": 3
   },
   "file_extension": ".py",
   "mimetype": "text/x-python",
   "name": "python",
   "nbconvert_exporter": "python",
   "pygments_lexer": "ipython3",
   "version": "3.11.4"
  }
 },
 "nbformat": 4,
 "nbformat_minor": 2
}
