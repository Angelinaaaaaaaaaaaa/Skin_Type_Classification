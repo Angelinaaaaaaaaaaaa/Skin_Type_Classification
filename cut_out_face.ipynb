{
 "cells": [
  {
   "cell_type": "code",
   "execution_count": 1,
   "metadata": {},
   "outputs": [],
   "source": [
    "from cut_out_face import *\n",
    "import pandas as pd\n",
    "import os\n",
    "\n",
    "%load_ext autoreload\n",
    "%autoreload 2"
   ]
  },
  {
   "cell_type": "code",
   "execution_count": 12,
   "metadata": {},
   "outputs": [],
   "source": [
    "from_directory = 'Oily-Dry-Skin-Types/valid/dry/'\n",
    "to_directory = 'Oily-Dry-Skin_Faces_only/valid/dry/'\n",
    "images = os.listdir(from_directory)\n",
    "images = [f for f in images if os.path.isfile(os.path.join(from_directory, f))]\n"
   ]
  },
  {
   "cell_type": "code",
   "execution_count": 13,
   "metadata": {},
   "outputs": [
    {
     "name": "stderr",
     "output_type": "stream",
     "text": [
      "I0000 00:00:1721341182.040357  996009 gl_context.cc:357] GL version: 2.1 (2.1 Metal - 88), renderer: Apple M2\n",
      "W0000 00:00:1721341182.041285 1002692 inference_feedback_manager.cc:114] Feedback manager requires a model with a single signature inference. Disabling support for feedback tensors.\n",
      "I0000 00:00:1721341182.050811  996009 gl_context.cc:357] GL version: 2.1 (2.1 Metal - 88), renderer: Apple M2\n",
      "W0000 00:00:1721341182.051528 1002699 inference_feedback_manager.cc:114] Feedback manager requires a model with a single signature inference. Disabling support for feedback tensors.\n",
      "I0000 00:00:1721341182.059545  996009 gl_context.cc:357] GL version: 2.1 (2.1 Metal - 88), renderer: Apple M2\n",
      "W0000 00:00:1721341182.060208 1002706 inference_feedback_manager.cc:114] Feedback manager requires a model with a single signature inference. Disabling support for feedback tensors.\n",
      "I0000 00:00:1721341182.068477  996009 gl_context.cc:357] GL version: 2.1 (2.1 Metal - 88), renderer: Apple M2\n",
      "W0000 00:00:1721341182.069343 1002714 inference_feedback_manager.cc:114] Feedback manager requires a model with a single signature inference. Disabling support for feedback tensors.\n",
      "I0000 00:00:1721341182.077186  996009 gl_context.cc:357] GL version: 2.1 (2.1 Metal - 88), renderer: Apple M2\n",
      "W0000 00:00:1721341182.077941 1002721 inference_feedback_manager.cc:114] Feedback manager requires a model with a single signature inference. Disabling support for feedback tensors.\n",
      "I0000 00:00:1721341182.087720  996009 gl_context.cc:357] GL version: 2.1 (2.1 Metal - 88), renderer: Apple M2\n",
      "W0000 00:00:1721341182.088269 1002727 inference_feedback_manager.cc:114] Feedback manager requires a model with a single signature inference. Disabling support for feedback tensors.\n",
      "I0000 00:00:1721341182.094496  996009 gl_context.cc:357] GL version: 2.1 (2.1 Metal - 88), renderer: Apple M2\n",
      "W0000 00:00:1721341182.095056 1002734 inference_feedback_manager.cc:114] Feedback manager requires a model with a single signature inference. Disabling support for feedback tensors.\n",
      "I0000 00:00:1721341182.101376  996009 gl_context.cc:357] GL version: 2.1 (2.1 Metal - 88), renderer: Apple M2\n",
      "W0000 00:00:1721341182.101874 1002741 inference_feedback_manager.cc:114] Feedback manager requires a model with a single signature inference. Disabling support for feedback tensors.\n",
      "I0000 00:00:1721341182.108424  996009 gl_context.cc:357] GL version: 2.1 (2.1 Metal - 88), renderer: Apple M2\n",
      "W0000 00:00:1721341182.108950 1002753 inference_feedback_manager.cc:114] Feedback manager requires a model with a single signature inference. Disabling support for feedback tensors.\n",
      "I0000 00:00:1721341182.115565  996009 gl_context.cc:357] GL version: 2.1 (2.1 Metal - 88), renderer: Apple M2\n",
      "W0000 00:00:1721341182.116202 1002761 inference_feedback_manager.cc:114] Feedback manager requires a model with a single signature inference. Disabling support for feedback tensors.\n",
      "I0000 00:00:1721341182.122535  996009 gl_context.cc:357] GL version: 2.1 (2.1 Metal - 88), renderer: Apple M2\n",
      "W0000 00:00:1721341182.123064 1002767 inference_feedback_manager.cc:114] Feedback manager requires a model with a single signature inference. Disabling support for feedback tensors.\n",
      "I0000 00:00:1721341182.129913  996009 gl_context.cc:357] GL version: 2.1 (2.1 Metal - 88), renderer: Apple M2\n",
      "W0000 00:00:1721341182.130439 1002774 inference_feedback_manager.cc:114] Feedback manager requires a model with a single signature inference. Disabling support for feedback tensors.\n",
      "I0000 00:00:1721341182.136750  996009 gl_context.cc:357] GL version: 2.1 (2.1 Metal - 88), renderer: Apple M2\n",
      "W0000 00:00:1721341182.137259 1002781 inference_feedback_manager.cc:114] Feedback manager requires a model with a single signature inference. Disabling support for feedback tensors.\n",
      "I0000 00:00:1721341182.144033  996009 gl_context.cc:357] GL version: 2.1 (2.1 Metal - 88), renderer: Apple M2\n",
      "W0000 00:00:1721341182.144550 1002788 inference_feedback_manager.cc:114] Feedback manager requires a model with a single signature inference. Disabling support for feedback tensors.\n",
      "I0000 00:00:1721341182.151261  996009 gl_context.cc:357] GL version: 2.1 (2.1 Metal - 88), renderer: Apple M2\n",
      "W0000 00:00:1721341182.151777 1002796 inference_feedback_manager.cc:114] Feedback manager requires a model with a single signature inference. Disabling support for feedback tensors.\n",
      "I0000 00:00:1721341182.158150  996009 gl_context.cc:357] GL version: 2.1 (2.1 Metal - 88), renderer: Apple M2\n",
      "W0000 00:00:1721341182.158671 1002802 inference_feedback_manager.cc:114] Feedback manager requires a model with a single signature inference. Disabling support for feedback tensors.\n",
      "I0000 00:00:1721341182.165046  996009 gl_context.cc:357] GL version: 2.1 (2.1 Metal - 88), renderer: Apple M2\n",
      "W0000 00:00:1721341182.165566 1002809 inference_feedback_manager.cc:114] Feedback manager requires a model with a single signature inference. Disabling support for feedback tensors.\n",
      "I0000 00:00:1721341182.171757  996009 gl_context.cc:357] GL version: 2.1 (2.1 Metal - 88), renderer: Apple M2\n",
      "W0000 00:00:1721341182.172238 1002816 inference_feedback_manager.cc:114] Feedback manager requires a model with a single signature inference. Disabling support for feedback tensors.\n",
      "I0000 00:00:1721341182.178850  996009 gl_context.cc:357] GL version: 2.1 (2.1 Metal - 88), renderer: Apple M2\n",
      "W0000 00:00:1721341182.179446 1002823 inference_feedback_manager.cc:114] Feedback manager requires a model with a single signature inference. Disabling support for feedback tensors.\n",
      "I0000 00:00:1721341182.185970  996009 gl_context.cc:357] GL version: 2.1 (2.1 Metal - 88), renderer: Apple M2\n",
      "W0000 00:00:1721341182.186518 1002830 inference_feedback_manager.cc:114] Feedback manager requires a model with a single signature inference. Disabling support for feedback tensors.\n",
      "I0000 00:00:1721341182.193240  996009 gl_context.cc:357] GL version: 2.1 (2.1 Metal - 88), renderer: Apple M2\n",
      "W0000 00:00:1721341182.193798 1002837 inference_feedback_manager.cc:114] Feedback manager requires a model with a single signature inference. Disabling support for feedback tensors.\n",
      "I0000 00:00:1721341182.202889  996009 gl_context.cc:357] GL version: 2.1 (2.1 Metal - 88), renderer: Apple M2\n",
      "W0000 00:00:1721341182.203480 1002844 inference_feedback_manager.cc:114] Feedback manager requires a model with a single signature inference. Disabling support for feedback tensors.\n",
      "I0000 00:00:1721341182.210442  996009 gl_context.cc:357] GL version: 2.1 (2.1 Metal - 88), renderer: Apple M2\n",
      "W0000 00:00:1721341182.211039 1002852 inference_feedback_manager.cc:114] Feedback manager requires a model with a single signature inference. Disabling support for feedback tensors.\n",
      "I0000 00:00:1721341182.218180  996009 gl_context.cc:357] GL version: 2.1 (2.1 Metal - 88), renderer: Apple M2\n",
      "W0000 00:00:1721341182.218830 1002858 inference_feedback_manager.cc:114] Feedback manager requires a model with a single signature inference. Disabling support for feedback tensors.\n",
      "I0000 00:00:1721341182.225816  996009 gl_context.cc:357] GL version: 2.1 (2.1 Metal - 88), renderer: Apple M2\n",
      "W0000 00:00:1721341182.226426 1002866 inference_feedback_manager.cc:114] Feedback manager requires a model with a single signature inference. Disabling support for feedback tensors.\n",
      "I0000 00:00:1721341182.233432  996009 gl_context.cc:357] GL version: 2.1 (2.1 Metal - 88), renderer: Apple M2\n",
      "W0000 00:00:1721341182.233975 1002873 inference_feedback_manager.cc:114] Feedback manager requires a model with a single signature inference. Disabling support for feedback tensors.\n",
      "I0000 00:00:1721341182.241238  996009 gl_context.cc:357] GL version: 2.1 (2.1 Metal - 88), renderer: Apple M2\n",
      "W0000 00:00:1721341182.241736 1002880 inference_feedback_manager.cc:114] Feedback manager requires a model with a single signature inference. Disabling support for feedback tensors.\n"
     ]
    },
    {
     "name": "stdout",
     "output_type": "stream",
     "text": [
      "None detected: Oily-Dry-Skin-Types/valid/dry/dry_732a45ef4f4ffcc25b9b_jpg.rf.ce0120dde077a49db239f41306b02736.jpg\n",
      "None detected: Oily-Dry-Skin-Types/valid/dry/dry_c4d9352e4aa976052512_jpg.rf.3452042652907882222f4919467b4879.jpg\n",
      "None detected: Oily-Dry-Skin-Types/valid/dry/dry_d77313561b75d11921df_jpg.rf.cd85a096d39962dd71801edcd778e91c.jpg\n"
     ]
    },
    {
     "name": "stderr",
     "output_type": "stream",
     "text": [
      "I0000 00:00:1721341182.248610  996009 gl_context.cc:357] GL version: 2.1 (2.1 Metal - 88), renderer: Apple M2\n",
      "W0000 00:00:1721341182.249118 1002888 inference_feedback_manager.cc:114] Feedback manager requires a model with a single signature inference. Disabling support for feedback tensors.\n",
      "I0000 00:00:1721341182.255824  996009 gl_context.cc:357] GL version: 2.1 (2.1 Metal - 88), renderer: Apple M2\n",
      "W0000 00:00:1721341182.256352 1002897 inference_feedback_manager.cc:114] Feedback manager requires a model with a single signature inference. Disabling support for feedback tensors.\n",
      "I0000 00:00:1721341182.262901  996009 gl_context.cc:357] GL version: 2.1 (2.1 Metal - 88), renderer: Apple M2\n",
      "W0000 00:00:1721341182.263394 1002904 inference_feedback_manager.cc:114] Feedback manager requires a model with a single signature inference. Disabling support for feedback tensors.\n",
      "I0000 00:00:1721341182.270407  996009 gl_context.cc:357] GL version: 2.1 (2.1 Metal - 88), renderer: Apple M2\n",
      "W0000 00:00:1721341182.270962 1002912 inference_feedback_manager.cc:114] Feedback manager requires a model with a single signature inference. Disabling support for feedback tensors.\n",
      "I0000 00:00:1721341182.278301  996009 gl_context.cc:357] GL version: 2.1 (2.1 Metal - 88), renderer: Apple M2\n",
      "W0000 00:00:1721341182.278866 1002918 inference_feedback_manager.cc:114] Feedback manager requires a model with a single signature inference. Disabling support for feedback tensors.\n",
      "I0000 00:00:1721341182.285796  996009 gl_context.cc:357] GL version: 2.1 (2.1 Metal - 88), renderer: Apple M2\n",
      "W0000 00:00:1721341182.286367 1002925 inference_feedback_manager.cc:114] Feedback manager requires a model with a single signature inference. Disabling support for feedback tensors.\n",
      "I0000 00:00:1721341182.292586  996009 gl_context.cc:357] GL version: 2.1 (2.1 Metal - 88), renderer: Apple M2\n",
      "W0000 00:00:1721341182.293115 1002932 inference_feedback_manager.cc:114] Feedback manager requires a model with a single signature inference. Disabling support for feedback tensors.\n",
      "I0000 00:00:1721341182.299351  996009 gl_context.cc:357] GL version: 2.1 (2.1 Metal - 88), renderer: Apple M2\n",
      "W0000 00:00:1721341182.299828 1002939 inference_feedback_manager.cc:114] Feedback manager requires a model with a single signature inference. Disabling support for feedback tensors.\n",
      "I0000 00:00:1721341182.306052  996009 gl_context.cc:357] GL version: 2.1 (2.1 Metal - 88), renderer: Apple M2\n",
      "W0000 00:00:1721341182.306621 1002947 inference_feedback_manager.cc:114] Feedback manager requires a model with a single signature inference. Disabling support for feedback tensors.\n",
      "I0000 00:00:1721341182.313603  996009 gl_context.cc:357] GL version: 2.1 (2.1 Metal - 88), renderer: Apple M2\n",
      "W0000 00:00:1721341182.314251 1002954 inference_feedback_manager.cc:114] Feedback manager requires a model with a single signature inference. Disabling support for feedback tensors.\n",
      "I0000 00:00:1721341182.320746  996009 gl_context.cc:357] GL version: 2.1 (2.1 Metal - 88), renderer: Apple M2\n",
      "W0000 00:00:1721341182.321284 1002960 inference_feedback_manager.cc:114] Feedback manager requires a model with a single signature inference. Disabling support for feedback tensors.\n",
      "I0000 00:00:1721341182.327918  996009 gl_context.cc:357] GL version: 2.1 (2.1 Metal - 88), renderer: Apple M2\n",
      "W0000 00:00:1721341182.328396 1002967 inference_feedback_manager.cc:114] Feedback manager requires a model with a single signature inference. Disabling support for feedback tensors.\n",
      "I0000 00:00:1721341182.335092  996009 gl_context.cc:357] GL version: 2.1 (2.1 Metal - 88), renderer: Apple M2\n",
      "W0000 00:00:1721341182.335599 1002974 inference_feedback_manager.cc:114] Feedback manager requires a model with a single signature inference. Disabling support for feedback tensors.\n",
      "I0000 00:00:1721341182.342203  996009 gl_context.cc:357] GL version: 2.1 (2.1 Metal - 88), renderer: Apple M2\n",
      "W0000 00:00:1721341182.342683 1002981 inference_feedback_manager.cc:114] Feedback manager requires a model with a single signature inference. Disabling support for feedback tensors.\n",
      "I0000 00:00:1721341182.349226  996009 gl_context.cc:357] GL version: 2.1 (2.1 Metal - 88), renderer: Apple M2\n",
      "W0000 00:00:1721341182.349704 1002988 inference_feedback_manager.cc:114] Feedback manager requires a model with a single signature inference. Disabling support for feedback tensors.\n",
      "I0000 00:00:1721341182.355814  996009 gl_context.cc:357] GL version: 2.1 (2.1 Metal - 88), renderer: Apple M2\n",
      "W0000 00:00:1721341182.356365 1002996 inference_feedback_manager.cc:114] Feedback manager requires a model with a single signature inference. Disabling support for feedback tensors.\n",
      "I0000 00:00:1721341182.362601  996009 gl_context.cc:357] GL version: 2.1 (2.1 Metal - 88), renderer: Apple M2\n",
      "W0000 00:00:1721341182.363085 1003002 inference_feedback_manager.cc:114] Feedback manager requires a model with a single signature inference. Disabling support for feedback tensors.\n",
      "I0000 00:00:1721341182.369377  996009 gl_context.cc:357] GL version: 2.1 (2.1 Metal - 88), renderer: Apple M2\n",
      "W0000 00:00:1721341182.369866 1003009 inference_feedback_manager.cc:114] Feedback manager requires a model with a single signature inference. Disabling support for feedback tensors.\n",
      "I0000 00:00:1721341182.376698  996009 gl_context.cc:357] GL version: 2.1 (2.1 Metal - 88), renderer: Apple M2\n",
      "W0000 00:00:1721341182.377227 1003017 inference_feedback_manager.cc:114] Feedback manager requires a model with a single signature inference. Disabling support for feedback tensors.\n",
      "I0000 00:00:1721341182.383623  996009 gl_context.cc:357] GL version: 2.1 (2.1 Metal - 88), renderer: Apple M2\n",
      "W0000 00:00:1721341182.384105 1003027 inference_feedback_manager.cc:114] Feedback manager requires a model with a single signature inference. Disabling support for feedback tensors.\n",
      "I0000 00:00:1721341182.391177  996009 gl_context.cc:357] GL version: 2.1 (2.1 Metal - 88), renderer: Apple M2\n",
      "W0000 00:00:1721341182.391629 1003037 inference_feedback_manager.cc:114] Feedback manager requires a model with a single signature inference. Disabling support for feedback tensors.\n",
      "I0000 00:00:1721341182.398364  996009 gl_context.cc:357] GL version: 2.1 (2.1 Metal - 88), renderer: Apple M2\n",
      "W0000 00:00:1721341182.398869 1003044 inference_feedback_manager.cc:114] Feedback manager requires a model with a single signature inference. Disabling support for feedback tensors.\n",
      "I0000 00:00:1721341182.404637  996009 gl_context.cc:357] GL version: 2.1 (2.1 Metal - 88), renderer: Apple M2\n",
      "W0000 00:00:1721341182.405125 1003051 inference_feedback_manager.cc:114] Feedback manager requires a model with a single signature inference. Disabling support for feedback tensors.\n",
      "I0000 00:00:1721341182.411112  996009 gl_context.cc:357] GL version: 2.1 (2.1 Metal - 88), renderer: Apple M2\n",
      "W0000 00:00:1721341182.411557 1003058 inference_feedback_manager.cc:114] Feedback manager requires a model with a single signature inference. Disabling support for feedback tensors.\n",
      "I0000 00:00:1721341182.417799  996009 gl_context.cc:357] GL version: 2.1 (2.1 Metal - 88), renderer: Apple M2\n",
      "W0000 00:00:1721341182.418330 1003065 inference_feedback_manager.cc:114] Feedback manager requires a model with a single signature inference. Disabling support for feedback tensors.\n",
      "I0000 00:00:1721341182.425036  996009 gl_context.cc:357] GL version: 2.1 (2.1 Metal - 88), renderer: Apple M2\n",
      "W0000 00:00:1721341182.425594 1003072 inference_feedback_manager.cc:114] Feedback manager requires a model with a single signature inference. Disabling support for feedback tensors.\n",
      "I0000 00:00:1721341182.432691  996009 gl_context.cc:357] GL version: 2.1 (2.1 Metal - 88), renderer: Apple M2\n",
      "W0000 00:00:1721341182.433262 1003079 inference_feedback_manager.cc:114] Feedback manager requires a model with a single signature inference. Disabling support for feedback tensors.\n",
      "I0000 00:00:1721341182.441139  996009 gl_context.cc:357] GL version: 2.1 (2.1 Metal - 88), renderer: Apple M2\n",
      "W0000 00:00:1721341182.441630 1003086 inference_feedback_manager.cc:114] Feedback manager requires a model with a single signature inference. Disabling support for feedback tensors.\n",
      "I0000 00:00:1721341182.447624  996009 gl_context.cc:357] GL version: 2.1 (2.1 Metal - 88), renderer: Apple M2\n",
      "W0000 00:00:1721341182.448138 1003094 inference_feedback_manager.cc:114] Feedback manager requires a model with a single signature inference. Disabling support for feedback tensors.\n"
     ]
    },
    {
     "name": "stdout",
     "output_type": "stream",
     "text": [
      "None detected: Oily-Dry-Skin-Types/valid/dry/dry_1a4996793e7fdccadd63_jpg.rf.b1a4fe04e1620d964bbb3a617ab8eb9c.jpg\n"
     ]
    },
    {
     "name": "stderr",
     "output_type": "stream",
     "text": [
      "I0000 00:00:1721341182.455006  996009 gl_context.cc:357] GL version: 2.1 (2.1 Metal - 88), renderer: Apple M2\n",
      "W0000 00:00:1721341182.455566 1003100 inference_feedback_manager.cc:114] Feedback manager requires a model with a single signature inference. Disabling support for feedback tensors.\n",
      "I0000 00:00:1721341182.461670  996009 gl_context.cc:357] GL version: 2.1 (2.1 Metal - 88), renderer: Apple M2\n",
      "W0000 00:00:1721341182.462271 1003109 inference_feedback_manager.cc:114] Feedback manager requires a model with a single signature inference. Disabling support for feedback tensors.\n",
      "I0000 00:00:1721341182.468910  996009 gl_context.cc:357] GL version: 2.1 (2.1 Metal - 88), renderer: Apple M2\n",
      "W0000 00:00:1721341182.469502 1003117 inference_feedback_manager.cc:114] Feedback manager requires a model with a single signature inference. Disabling support for feedback tensors.\n",
      "I0000 00:00:1721341182.475621  996009 gl_context.cc:357] GL version: 2.1 (2.1 Metal - 88), renderer: Apple M2\n",
      "W0000 00:00:1721341182.476174 1003123 inference_feedback_manager.cc:114] Feedback manager requires a model with a single signature inference. Disabling support for feedback tensors.\n",
      "I0000 00:00:1721341182.482565  996009 gl_context.cc:357] GL version: 2.1 (2.1 Metal - 88), renderer: Apple M2\n",
      "W0000 00:00:1721341182.483091 1003130 inference_feedback_manager.cc:114] Feedback manager requires a model with a single signature inference. Disabling support for feedback tensors.\n",
      "I0000 00:00:1721341182.491199  996009 gl_context.cc:357] GL version: 2.1 (2.1 Metal - 88), renderer: Apple M2\n",
      "W0000 00:00:1721341182.491699 1003138 inference_feedback_manager.cc:114] Feedback manager requires a model with a single signature inference. Disabling support for feedback tensors.\n",
      "I0000 00:00:1721341182.498059  996009 gl_context.cc:357] GL version: 2.1 (2.1 Metal - 88), renderer: Apple M2\n",
      "W0000 00:00:1721341182.498565 1003147 inference_feedback_manager.cc:114] Feedback manager requires a model with a single signature inference. Disabling support for feedback tensors.\n",
      "I0000 00:00:1721341182.504599  996009 gl_context.cc:357] GL version: 2.1 (2.1 Metal - 88), renderer: Apple M2\n",
      "W0000 00:00:1721341182.505109 1003153 inference_feedback_manager.cc:114] Feedback manager requires a model with a single signature inference. Disabling support for feedback tensors.\n",
      "I0000 00:00:1721341182.511662  996009 gl_context.cc:357] GL version: 2.1 (2.1 Metal - 88), renderer: Apple M2\n",
      "W0000 00:00:1721341182.512239 1003160 inference_feedback_manager.cc:114] Feedback manager requires a model with a single signature inference. Disabling support for feedback tensors.\n",
      "I0000 00:00:1721341182.518716  996009 gl_context.cc:357] GL version: 2.1 (2.1 Metal - 88), renderer: Apple M2\n",
      "W0000 00:00:1721341182.519200 1003169 inference_feedback_manager.cc:114] Feedback manager requires a model with a single signature inference. Disabling support for feedback tensors.\n",
      "I0000 00:00:1721341182.525546  996009 gl_context.cc:357] GL version: 2.1 (2.1 Metal - 88), renderer: Apple M2\n",
      "W0000 00:00:1721341182.526127 1003178 inference_feedback_manager.cc:114] Feedback manager requires a model with a single signature inference. Disabling support for feedback tensors.\n",
      "I0000 00:00:1721341182.532357  996009 gl_context.cc:357] GL version: 2.1 (2.1 Metal - 88), renderer: Apple M2\n",
      "W0000 00:00:1721341182.533010 1003186 inference_feedback_manager.cc:114] Feedback manager requires a model with a single signature inference. Disabling support for feedback tensors.\n",
      "I0000 00:00:1721341182.541837  996009 gl_context.cc:357] GL version: 2.1 (2.1 Metal - 88), renderer: Apple M2\n",
      "W0000 00:00:1721341182.542385 1003192 inference_feedback_manager.cc:114] Feedback manager requires a model with a single signature inference. Disabling support for feedback tensors.\n",
      "I0000 00:00:1721341182.548317  996009 gl_context.cc:357] GL version: 2.1 (2.1 Metal - 88), renderer: Apple M2\n",
      "W0000 00:00:1721341182.548870 1003200 inference_feedback_manager.cc:114] Feedback manager requires a model with a single signature inference. Disabling support for feedback tensors.\n",
      "I0000 00:00:1721341182.555592  996009 gl_context.cc:357] GL version: 2.1 (2.1 Metal - 88), renderer: Apple M2\n",
      "W0000 00:00:1721341182.556171 1003206 inference_feedback_manager.cc:114] Feedback manager requires a model with a single signature inference. Disabling support for feedback tensors.\n"
     ]
    }
   ],
   "source": [
    "for img in images:\n",
    "    img_cut = cut_face(from_directory, img, threshold=0.3)\n",
    "    if isinstance(img_cut, np.ndarray):\n",
    "        img_cut_padded = pad_image(img_cut, 650, 650)\n",
    "    save_to_file(to_directory, img, img_cut_padded)"
   ]
  },
  {
   "cell_type": "code",
   "execution_count": null,
   "metadata": {},
   "outputs": [],
   "source": []
  }
 ],
 "metadata": {
  "kernelspec": {
   "display_name": "base",
   "language": "python",
   "name": "python3"
  },
  "language_info": {
   "codemirror_mode": {
    "name": "ipython",
    "version": 3
   },
   "file_extension": ".py",
   "mimetype": "text/x-python",
   "name": "python",
   "nbconvert_exporter": "python",
   "pygments_lexer": "ipython3",
   "version": "3.11.4"
  }
 },
 "nbformat": 4,
 "nbformat_minor": 2
}
